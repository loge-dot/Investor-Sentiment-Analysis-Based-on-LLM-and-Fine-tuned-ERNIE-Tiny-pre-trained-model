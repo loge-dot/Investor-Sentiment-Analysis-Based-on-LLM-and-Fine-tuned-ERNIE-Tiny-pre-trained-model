{
 "cells": [
  {
   "cell_type": "code",
   "execution_count": 1,
   "metadata": {},
   "outputs": [
    {
     "name": "stderr",
     "output_type": "stream",
     "text": [
      "d:\\Software_installation\\Anaconda3\\Lib\\site-packages\\pandas\\core\\arrays\\masked.py:60: UserWarning: Pandas requires version '1.3.6' or newer of 'bottleneck' (version '1.3.5' currently installed).\n",
      "  from pandas.core import (\n"
     ]
    }
   ],
   "source": [
    "import pandas as pd \n",
    "import numpy as np\n",
    "import statsmodels.api as sm\n",
    "from linearmodels import PooledOLS, PanelOLS,RandomEffects\n",
    "from statsmodels.tsa.stattools import adfuller\n",
    "import matplotlib.pyplot as plt\n",
    "import seaborn as sns\n",
    "from statsmodels.stats.outliers_influence import variance_inflation_factor\n",
    "from statsmodels.tsa.stattools import adfuller\n",
    "import scipy.stats as stats\n",
    "from linearmodels.panel import compare\n",
    "from linearmodels import PanelOLS, RandomEffects"
   ]
  },
  {
   "cell_type": "code",
   "execution_count": 4,
   "metadata": {},
   "outputs": [],
   "source": [
    "prediction_results = pd.read_csv(r\"E:\\毕业论文\\数据\\股吧数据\\prediction_results.csv\")\n",
    "zssh = pd.read_csv(r\"E:\\毕业论文\\数据\\股吧数据\\zssh000016.csv\")"
   ]
  },
  {
   "cell_type": "code",
   "execution_count": 5,
   "metadata": {},
   "outputs": [
    {
     "data": {
      "text/html": [
       "<div>\n",
       "<style scoped>\n",
       "    .dataframe tbody tr th:only-of-type {\n",
       "        vertical-align: middle;\n",
       "    }\n",
       "\n",
       "    .dataframe tbody tr th {\n",
       "        vertical-align: top;\n",
       "    }\n",
       "\n",
       "    .dataframe thead th {\n",
       "        text-align: right;\n",
       "    }\n",
       "</style>\n",
       "<table border=\"1\" class=\"dataframe\">\n",
       "  <thead>\n",
       "    <tr style=\"text-align: right;\">\n",
       "      <th></th>\n",
       "      <th>阅读数</th>\n",
       "      <th>评论数</th>\n",
       "      <th>标题</th>\n",
       "      <th>发表时间</th>\n",
       "      <th>情感分类</th>\n",
       "    </tr>\n",
       "  </thead>\n",
       "  <tbody>\n",
       "    <tr>\n",
       "      <th>0</th>\n",
       "      <td>223</td>\n",
       "      <td>1</td>\n",
       "      <td>想要交易50etf期权在哪里交易？50ETF期权交易要注意什</td>\n",
       "      <td>2022-10-28</td>\n",
       "      <td>1</td>\n",
       "    </tr>\n",
       "    <tr>\n",
       "      <th>1</th>\n",
       "      <td>142</td>\n",
       "      <td>0</td>\n",
       "      <td>今天不是跌晕了就是涨晕了[拜神][拜神][拜神]</td>\n",
       "      <td>2022-10-28</td>\n",
       "      <td>0</td>\n",
       "    </tr>\n",
       "    <tr>\n",
       "      <th>2</th>\n",
       "      <td>119</td>\n",
       "      <td>0</td>\n",
       "      <td>百手空单富追马云，坚决88倍杆杆做空上证50</td>\n",
       "      <td>2022-10-28</td>\n",
       "      <td>0</td>\n",
       "    </tr>\n",
       "    <tr>\n",
       "      <th>3</th>\n",
       "      <td>998</td>\n",
       "      <td>3</td>\n",
       "      <td>指数还在选择方向</td>\n",
       "      <td>2022-10-28</td>\n",
       "      <td>1</td>\n",
       "    </tr>\n",
       "    <tr>\n",
       "      <th>4</th>\n",
       "      <td>329</td>\n",
       "      <td>2</td>\n",
       "      <td>上证50遇到2300再度选择方向，直接回踩2050到月线上涨通道下轨或反弹到到短</td>\n",
       "      <td>2022-10-28</td>\n",
       "      <td>1</td>\n",
       "    </tr>\n",
       "  </tbody>\n",
       "</table>\n",
       "</div>"
      ],
      "text/plain": [
       "   阅读数  评论数                                        标题        发表时间  情感分类\n",
       "0  223    1            想要交易50etf期权在哪里交易？50ETF期权交易要注意什  2022-10-28     1\n",
       "1  142    0                  今天不是跌晕了就是涨晕了[拜神][拜神][拜神]  2022-10-28     0\n",
       "2  119    0                    百手空单富追马云，坚决88倍杆杆做空上证50  2022-10-28     0\n",
       "3  998    3                                  指数还在选择方向  2022-10-28     1\n",
       "4  329    2  上证50遇到2300再度选择方向，直接回踩2050到月线上涨通道下轨或反弹到到短  2022-10-28     1"
      ]
     },
     "execution_count": 5,
     "metadata": {},
     "output_type": "execute_result"
    }
   ],
   "source": [
    "merge_df = pd.merge(left=zssh,right=prediction_results,how='inner',on='标题')\n",
    "merge_df = merge_df[['阅读数','评论数','标题','发表时间','情感分类']]\n",
    "merge_df.head(5)"
   ]
  },
  {
   "cell_type": "code",
   "execution_count": null,
   "metadata": {},
   "outputs": [],
   "source": [
    "merge_df = merge_df[['阅读数','评论数','标题','发表时间','情感分类']]"
   ]
  },
  {
   "cell_type": "code",
   "execution_count": null,
   "metadata": {},
   "outputs": [],
   "source": [
    "merge_df.head(5)"
   ]
  },
  {
   "cell_type": "code",
   "execution_count": null,
   "metadata": {},
   "outputs": [],
   "source": [
    "merge_df['情感分类'] = pd.Categorical(merge_df['情感分类'])\n",
    "dummies = pd.get_dummies(merge_df['情感分类'], prefix='情感分类')\n",
    "\n",
    "# 将哑变量合并回原数据框\n",
    "df = pd.concat([merge_df, dummies], axis=1)\n",
    "\n",
    "# 按照发表时间分组并汇总数据\n",
    "result = df.groupby('发表时间').agg({\n",
    "    '阅读数': 'sum',\n",
    "    '评论数': 'sum',\n",
    "    '标题':'count',\n",
    "    '情感分类_0': 'sum',  # 情感分类0的总数\n",
    "    '情感分类_1': 'sum',  # 情感分类1的总数\n",
    "    '情感分类_2': 'sum'   # 情感分类2的总数\n",
    "}).reset_index()\n",
    "\n",
    "# 重命名列以匹配原始数据集\n",
    "result.columns = ['Date', '总阅读数', '总评论数','Tpostnum','Negpostnum', '中性', 'Pospostnum']\n",
    "\n",
    "# 添加代码列\n",
    "result['Scode'] = 'zssh000016'"
   ]
  },
  {
   "cell_type": "code",
   "execution_count": null,
   "metadata": {},
   "outputs": [],
   "source": [
    "result['Senti'] = (result['Pospostnum'] - result['Negpostnum']) / (result['Pospostnum'] + result['Negpostnum'])\n",
    "result['MsgSenti'] = np.log((1+result['Pospostnum'])/(1+result['Negpostnum']))\n",
    "result['Concern'] = np.log(1+result['Tpostnum'])\n",
    "result['Agree'] = 1 - np.sqrt(1-result['Senti']**2)"
   ]
  },
  {
   "cell_type": "code",
   "execution_count": null,
   "metadata": {},
   "outputs": [],
   "source": [
    "sz_return = pd.read_excel(r\"E:\\毕业论文\\数据\\股吧数据\\上证50日回报率.xlsx\")"
   ]
  },
  {
   "cell_type": "code",
   "execution_count": null,
   "metadata": {},
   "outputs": [],
   "source": [
    "sz_return = sz_return[['Idxtrd01','Idxtrd08']]\n",
    "sz_return.rename(columns={'Idxtrd01':'Date','Idxtrd08':'return'},inplace=True)"
   ]
  },
  {
   "cell_type": "code",
   "execution_count": null,
   "metadata": {},
   "outputs": [],
   "source": [
    "sz_50 = sz_return.merge(result,how='left')"
   ]
  },
  {
   "cell_type": "code",
   "execution_count": null,
   "metadata": {},
   "outputs": [],
   "source": [
    "sz_50.to_csv('sz_50_test.csv',encoding='utf-8-sig',index=None)"
   ]
  },
  {
   "cell_type": "code",
   "execution_count": null,
   "metadata": {},
   "outputs": [],
   "source": [
    "prediction_results_50 = pd.read_csv(r\"E:\\毕业论文\\数据\\股吧数据\\clean\\prediction_50_all.csv\")\n",
    "sz_50_all = pd.read_csv(r\"E:\\毕业论文\\数据\\股吧数据\\clean\\50_all.csv_txt_clean.csv\")"
   ]
  },
  {
   "cell_type": "code",
   "execution_count": null,
   "metadata": {},
   "outputs": [],
   "source": [
    "prediction_results_50['情感分类'].value_counts()"
   ]
  },
  {
   "cell_type": "code",
   "execution_count": null,
   "metadata": {},
   "outputs": [],
   "source": [
    "prediction_results_50 = prediction_results_50.rename(columns={'文本':'标题'})"
   ]
  },
  {
   "cell_type": "code",
   "execution_count": null,
   "metadata": {},
   "outputs": [],
   "source": [
    "merge_df_all = pd.merge(left=sz_50_all,right=prediction_results_50,how='inner',on='标题')"
   ]
  },
  {
   "cell_type": "code",
   "execution_count": null,
   "metadata": {},
   "outputs": [],
   "source": [
    "merge_df_all"
   ]
  },
  {
   "cell_type": "code",
   "execution_count": null,
   "metadata": {},
   "outputs": [],
   "source": [
    "merge_df_all = merge_df_all.drop_duplicates(subset=['标题','情感分类'],ignore_index=True).reset_index()"
   ]
  },
  {
   "cell_type": "code",
   "execution_count": null,
   "metadata": {},
   "outputs": [],
   "source": [
    "merge_df_all=merge_df_all.iloc[:,1:]"
   ]
  },
  {
   "cell_type": "code",
   "execution_count": null,
   "metadata": {},
   "outputs": [],
   "source": [
    "merge_df_all"
   ]
  },
  {
   "cell_type": "code",
   "execution_count": null,
   "metadata": {},
   "outputs": [],
   "source": [
    "merge_df_all['情感分类'] = pd.Categorical(merge_df_all['情感分类'])\n",
    "dummies = pd.get_dummies(merge_df_all['情感分类'], prefix='情感分类')\n",
    "\n",
    "# 将哑变量合并回原数据框\n",
    "df_all = pd.concat([merge_df_all, dummies], axis=1)\n",
    "\n",
    "# 按照发表时间分组并汇总数据\n",
    "result_all = df_all.groupby(['发表时间','stock_code']).agg({\n",
    "    '阅读数': 'sum',\n",
    "    '评论数': 'sum',\n",
    "    '标题':'count',\n",
    "    '情感分类_0': 'sum',  # 情感分类0的总数\n",
    "    '情感分类_1': 'sum',  # 情感分类1的总数\n",
    "    '情感分类_2': 'sum'   # 情感分类2的总数\n",
    "}).reset_index()\n",
    "\n",
    "# 重命名列以匹配原始数据集\n",
    "result_all.columns = ['Date','Scode','总阅读数', '总评论数','Tpostnum','Negpostnum', '中性', 'Pospostnum']\n"
   ]
  },
  {
   "cell_type": "code",
   "execution_count": null,
   "metadata": {},
   "outputs": [],
   "source": [
    "result_all['Senti'] = (result_all['Pospostnum'] - result_all['Negpostnum']) / (result_all['Pospostnum'] + result_all['Negpostnum'])\n",
    "result_all['MsgSenti'] = np.log((1+result_all['Pospostnum'])/(1+result_all['Negpostnum']))\n",
    "result_all['Concern'] = np.log(1+result_all['Tpostnum'])\n",
    "result_all['Agree'] = 1 - np.sqrt(1-result_all['Senti']**2)"
   ]
  },
  {
   "cell_type": "code",
   "execution_count": null,
   "metadata": {},
   "outputs": [],
   "source": [
    "result_all"
   ]
  },
  {
   "cell_type": "code",
   "execution_count": null,
   "metadata": {},
   "outputs": [],
   "source": [
    "result_all=result_all.fillna(value=0)"
   ]
  },
  {
   "cell_type": "code",
   "execution_count": null,
   "metadata": {},
   "outputs": [],
   "source": [
    "result_all.to_csv('result_all_real.csv',index=False,encoding='utf_8_sig')"
   ]
  },
  {
   "cell_type": "code",
   "execution_count": null,
   "metadata": {},
   "outputs": [],
   "source": [
    "import re\n",
    "sz_huanshou = pd.read_excel('其他数据\\日换手率.xlsx')\n",
    "sz_trade = pd.read_excel('其他数据\\日频股票数据.xlsx')\n",
    "sz_return = pd.read_excel('其他数据\\日收益率.xlsx')\n",
    "sz_BM = pd.read_excel('其他数据\\账面市值比季度数据.xlsx')\n",
    "sz_EPS = pd.read_excel('其他数据\\EPS季度数据.xlsx')\n",
    "sz_PE_PB = pd.read_excel('其他数据\\市盈率市净率.xlsx')\n",
    "sz_uncertain = pd.read_excel(\"E:\\毕业论文\\数据\\RERR_ChinaEPUIndexM.xlsx\")\n",
    "sz_roe = pd.read_excel(r\"其他数据\\roe.xlsx\")"
   ]
  },
  {
   "cell_type": "code",
   "execution_count": null,
   "metadata": {},
   "outputs": [],
   "source": [
    "sz_days = sz_return.merge(sz_huanshou, on=['Stkcd','Trddt'], how='left')\n",
    "sz_days = sz_days.merge(sz_trade, on=['Stkcd','Trddt'], how='left')\n",
    "sz_days = sz_days.merge(sz_PE_PB, on=['Stkcd','Trddt'], how='left')\n",
    "sz_BM = sz_BM.merge(sz_EPS,how='left',on=['Accper','Stkcd'])\n",
    "sz_season = sz_BM.merge(sz_roe,how='left',on=['Accper','Stkcd'])\n",
    "sz_season.drop(columns=['ShortName_x','ShortName_y'],inplace=True)\n",
    "sz_season.rename(columns={'Accper':'Trddt'},inplace=True)\n",
    "sz_season.drop(columns=['ShortName'],inplace=True)\n",
    "sz_control = sz_days.merge(sz_season,how='left',on=['Stkcd','Trddt'])\n",
    "sz_control = sz_control.rename(columns={'Trddt':'Date'})\n",
    "sz_control.to_csv()\n",
    "sz_control['Month'] = pd.to_datetime(sz_control['Date']).dt.to_period('M').astype(str)\n",
    "sz_uncertain['Date'] = sz_uncertain['Date'].astype(str)\n",
    "merged_df = pd.merge(sz_control, sz_uncertain, left_on='Month', right_on='Date', how='left')\n",
    "merged_df = merged_df.drop(columns=['Date_y','Month'])\n",
    "merged_df.rename(columns={'Date_x':'Date'},inplace=True)\n",
    "merged_df['B/M'] = merged_df['B/M'].interpolate()\n",
    "merged_df['EPS'] = merged_df['EPS'].interpolate()\n",
    "merged_df['Roe'] = merged_df['Roe'].interpolate()\n",
    "merged_df[['B/M','EPS']] = merged_df[['B/M','EPS']].bfill()\n",
    "merged_df.rename(columns={'Trddt':'Date'},inplace=True)\n",
    "merged_df.rename(columns={'Stkcd':'Scode'},inplace=True)\n",
    "merged_df.rename(columns={'index':'Uncertain'},inplace=True)\n",
    "sz_result_all = merged_df.merge(result_all,how='left',on=['Scode','Date'])\n",
    "sz_result_all"
   ]
  },
  {
   "cell_type": "code",
   "execution_count": null,
   "metadata": {},
   "outputs": [],
   "source": [
    "sz_result_all=sz_result_all.rename(columns={'总阅读数':'Readnum','总评论数':'Commentnum','中性':'Neupostnum'})\n",
    "sz_result_all.to_csv('E:\\毕业论文\\数据\\东方财富网帖子\\sz_all_real.csv',index=0)"
   ]
  },
  {
   "cell_type": "code",
   "execution_count": null,
   "metadata": {},
   "outputs": [],
   "source": [
    "sz_all = pd.read_csv('sz_all_real.csv')\n",
    "sz_all = sz_all.set_index('Date')"
   ]
  },
  {
   "cell_type": "code",
   "execution_count": null,
   "metadata": {},
   "outputs": [],
   "source": []
  }
 ],
 "metadata": {
  "kernelspec": {
   "display_name": "base",
   "language": "python",
   "name": "python3"
  },
  "language_info": {
   "codemirror_mode": {
    "name": "ipython",
    "version": 3
   },
   "file_extension": ".py",
   "mimetype": "text/x-python",
   "name": "python",
   "nbconvert_exporter": "python",
   "pygments_lexer": "ipython3",
   "version": "3.11.5"
  }
 },
 "nbformat": 4,
 "nbformat_minor": 2
}
